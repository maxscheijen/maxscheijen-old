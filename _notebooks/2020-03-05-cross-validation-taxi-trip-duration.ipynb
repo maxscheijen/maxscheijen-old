{
 "cells": [
  {
   "cell_type": "markdown",
   "metadata": {},
   "source": [
    "# Robust Cross Validation for Data Science - Taxi Trip Duration"
   ]
  },
  {
   "cell_type": "markdown",
   "metadata": {},
   "source": [
    "One of the first things you learn when applying machine learning models is the notion of cross-validation. Training a model, which basically is learning the parameters of a prediction function, and evaluating the performance of a model on the same dataset is a methodological mistake. The machine learning model could learn the labels of the data and reproduce them. However, this is not really what we want. If we then deploy the machine learning model on unseen data, we run the risk of predicting not anything useful. Our model has only learned the training data.\n",
    "\n",
    "In this post, I present a robust cross-validation method for tabular data. This method, among other things, can be used in Data Science competitions.\n",
    "\n",
    "To demonstrate this technique, we use the <a href=\"https://www.kaggle.com/c/nyc-taxi-trip-duration/overview\" target=\"_blank\">New York City Taxi Trip Duration</a> competition hosted on <a href=\"https://www.kaggle.com/\" target=\"_blank\">Kaggle</a>. In this competition, we try to predict the trip duration.\n",
    "\n",
    "This post is not intended to achieve a high score in the competition in question. I  demonstrate a way to implement a cross-validation method that gives the same results on validation data as on unseen test data.\n",
    "\n",
    "__NOTE__: This methods is heavily based on <a href=\"https://twitter.com/abhi1thakur\" target=\"_blank\">Abhishek Thakur</a> cross validation method."
   ]
  },
  {
   "cell_type": "code",
   "execution_count": 1,
   "metadata": {},
   "outputs": [
    {
     "data": {
      "text/html": [
       "<div>\n",
       "<style scoped>\n",
       "    .dataframe tbody tr th:only-of-type {\n",
       "        vertical-align: middle;\n",
       "    }\n",
       "\n",
       "    .dataframe tbody tr th {\n",
       "        vertical-align: top;\n",
       "    }\n",
       "\n",
       "    .dataframe thead th {\n",
       "        text-align: right;\n",
       "    }\n",
       "</style>\n",
       "<table border=\"1\" class=\"dataframe\">\n",
       "  <thead>\n",
       "    <tr style=\"text-align: right;\">\n",
       "      <th></th>\n",
       "      <th>vendor_id</th>\n",
       "      <th>pickup_datetime</th>\n",
       "      <th>passenger_count</th>\n",
       "      <th>pickup_longitude</th>\n",
       "      <th>pickup_latitude</th>\n",
       "      <th>dropoff_longitude</th>\n",
       "      <th>dropoff_latitude</th>\n",
       "      <th>store_and_fwd_flag</th>\n",
       "      <th>trip_duration</th>\n",
       "    </tr>\n",
       "  </thead>\n",
       "  <tbody>\n",
       "    <tr>\n",
       "      <th>0</th>\n",
       "      <td>2</td>\n",
       "      <td>2016-03-14 17:24:55</td>\n",
       "      <td>1</td>\n",
       "      <td>-73.982155</td>\n",
       "      <td>40.767937</td>\n",
       "      <td>-73.964630</td>\n",
       "      <td>40.765602</td>\n",
       "      <td>N</td>\n",
       "      <td>455</td>\n",
       "    </tr>\n",
       "    <tr>\n",
       "      <th>1</th>\n",
       "      <td>1</td>\n",
       "      <td>2016-06-12 00:43:35</td>\n",
       "      <td>1</td>\n",
       "      <td>-73.980415</td>\n",
       "      <td>40.738564</td>\n",
       "      <td>-73.999481</td>\n",
       "      <td>40.731152</td>\n",
       "      <td>N</td>\n",
       "      <td>663</td>\n",
       "    </tr>\n",
       "    <tr>\n",
       "      <th>2</th>\n",
       "      <td>2</td>\n",
       "      <td>2016-01-19 11:35:24</td>\n",
       "      <td>1</td>\n",
       "      <td>-73.979027</td>\n",
       "      <td>40.763939</td>\n",
       "      <td>-74.005333</td>\n",
       "      <td>40.710087</td>\n",
       "      <td>N</td>\n",
       "      <td>2124</td>\n",
       "    </tr>\n",
       "  </tbody>\n",
       "</table>\n",
       "</div>"
      ],
      "text/plain": [
       "   vendor_id      pickup_datetime  passenger_count  pickup_longitude  \\\n",
       "0          2  2016-03-14 17:24:55                1        -73.982155   \n",
       "1          1  2016-06-12 00:43:35                1        -73.980415   \n",
       "2          2  2016-01-19 11:35:24                1        -73.979027   \n",
       "\n",
       "   pickup_latitude  dropoff_longitude  dropoff_latitude store_and_fwd_flag  \\\n",
       "0        40.767937         -73.964630         40.765602                  N   \n",
       "1        40.738564         -73.999481         40.731152                  N   \n",
       "2        40.763939         -74.005333         40.710087                  N   \n",
       "\n",
       "   trip_duration  \n",
       "0            455  \n",
       "1            663  \n",
       "2           2124  "
      ]
     },
     "execution_count": 1,
     "metadata": {},
     "output_type": "execute_result"
    }
   ],
   "source": [
    "import pandas as pd\n",
    "\n",
    "# load data\n",
    "train = pd.read_csv('data/train.csv').drop(['id', 'dropoff_datetime'], axis=1)\n",
    "test = pd.read_csv('data/test.csv').drop(['id'], axis=1)\n",
    "\n",
    "# display first 3 rows\n",
    "train.head(3)"
   ]
  },
  {
   "cell_type": "markdown",
   "metadata": {},
   "source": [
    "## $k$-fold cross-validation"
   ]
  },
  {
   "cell_type": "markdown",
   "metadata": {},
   "source": [
    "We load the train and test data into the cell above. I drop the `dropoff_datetime` because this feature isn't present in the testing data.\n",
    "\n",
    "We use $k$-fold cross-validation to implement our cross-validation method. In $k$-fold cross-validation we estimate what our model has learned based on new data that the model has not yet seen. The $k$ in $k$-fold cross-validation shows how many groups we divide our data into. If $k$ = 5 then we divide our data into 5 groups. We then train our algorithm on 4 groups of the data, and we validate the model on the 1 group of data that the model has not yet seen. We repeat this process until we have trained our model on each group of data once. Also, each group of data has been used to validate our model.\n",
    "\n",
    "To implement this method we use `sklearn`'s $k$-fold cross-validation capabilities. In our case, we are dealing with a regression problem. This is why we use a simple k-fold method. However, if you are dealing with a classification problem you can use stratified $k$-fold cross-validation. This ensures that the frequency of labels between the folds is the same. And increases ensures better consistency between validation and testing scores."
   ]
  },
  {
   "cell_type": "code",
   "execution_count": 2,
   "metadata": {},
   "outputs": [],
   "source": [
    "from sklearn.model_selection import KFold\n",
    "\n",
    "# number of folds used\n",
    "FOLDS = 5\n",
    "\n",
    "# instantiate k-fold cross-validation\n",
    "kfold = KFold(n_splits=FOLDS, shuffle=False)"
   ]
  },
  {
   "cell_type": "markdown",
   "metadata": {},
   "source": [
    "In this case choose $k$ = 5. We have a relatively large data set, so it seems to me that 5 folds will generate a robust validation score. We are now going to divide our data into 5 groups/folds. We create a new column in which we record the fold the observation belongs to.\n",
    "\n",
    "However, before we do this, we randomize the order of the data. This way, we prevent the order in which the data is placed from becoming important, which can incorporate bias in our validation score. \n",
    "\n",
    "__NOTE__: don't do this with time series."
   ]
  },
  {
   "cell_type": "code",
   "execution_count": 3,
   "metadata": {},
   "outputs": [
    {
     "data": {
      "text/html": [
       "<div>\n",
       "<style scoped>\n",
       "    .dataframe tbody tr th:only-of-type {\n",
       "        vertical-align: middle;\n",
       "    }\n",
       "\n",
       "    .dataframe tbody tr th {\n",
       "        vertical-align: top;\n",
       "    }\n",
       "\n",
       "    .dataframe thead th {\n",
       "        text-align: right;\n",
       "    }\n",
       "</style>\n",
       "<table border=\"1\" class=\"dataframe\">\n",
       "  <thead>\n",
       "    <tr style=\"text-align: right;\">\n",
       "      <th></th>\n",
       "      <th>vendor_id</th>\n",
       "      <th>pickup_datetime</th>\n",
       "      <th>passenger_count</th>\n",
       "      <th>pickup_longitude</th>\n",
       "      <th>pickup_latitude</th>\n",
       "      <th>dropoff_longitude</th>\n",
       "      <th>dropoff_latitude</th>\n",
       "      <th>store_and_fwd_flag</th>\n",
       "      <th>trip_duration</th>\n",
       "      <th>kfold</th>\n",
       "    </tr>\n",
       "  </thead>\n",
       "  <tbody>\n",
       "    <tr>\n",
       "      <th>0</th>\n",
       "      <td>2</td>\n",
       "      <td>2016-02-27 20:13:05</td>\n",
       "      <td>1</td>\n",
       "      <td>-73.981728</td>\n",
       "      <td>40.749500</td>\n",
       "      <td>-73.945915</td>\n",
       "      <td>40.792061</td>\n",
       "      <td>N</td>\n",
       "      <td>692</td>\n",
       "      <td>0.0</td>\n",
       "    </tr>\n",
       "    <tr>\n",
       "      <th>1</th>\n",
       "      <td>2</td>\n",
       "      <td>2016-06-04 09:54:05</td>\n",
       "      <td>1</td>\n",
       "      <td>-73.979088</td>\n",
       "      <td>40.771606</td>\n",
       "      <td>-73.946518</td>\n",
       "      <td>40.822655</td>\n",
       "      <td>N</td>\n",
       "      <td>990</td>\n",
       "      <td>0.0</td>\n",
       "    </tr>\n",
       "    <tr>\n",
       "      <th>2</th>\n",
       "      <td>2</td>\n",
       "      <td>2016-05-06 17:40:05</td>\n",
       "      <td>1</td>\n",
       "      <td>-73.989700</td>\n",
       "      <td>40.738651</td>\n",
       "      <td>-73.997772</td>\n",
       "      <td>40.754051</td>\n",
       "      <td>N</td>\n",
       "      <td>647</td>\n",
       "      <td>0.0</td>\n",
       "    </tr>\n",
       "  </tbody>\n",
       "</table>\n",
       "</div>"
      ],
      "text/plain": [
       "   vendor_id      pickup_datetime  passenger_count  pickup_longitude  \\\n",
       "0          2  2016-02-27 20:13:05                1        -73.981728   \n",
       "1          2  2016-06-04 09:54:05                1        -73.979088   \n",
       "2          2  2016-05-06 17:40:05                1        -73.989700   \n",
       "\n",
       "   pickup_latitude  dropoff_longitude  dropoff_latitude store_and_fwd_flag  \\\n",
       "0        40.749500         -73.945915         40.792061                  N   \n",
       "1        40.771606         -73.946518         40.822655                  N   \n",
       "2        40.738651         -73.997772         40.754051                  N   \n",
       "\n",
       "   trip_duration  kfold  \n",
       "0            692    0.0  \n",
       "1            990    0.0  \n",
       "2            647    0.0  "
      ]
     },
     "execution_count": 3,
     "metadata": {},
     "output_type": "execute_result"
    }
   ],
   "source": [
    "# randomize order of dataframe\n",
    "train = train.sample(frac=1, random_state=1).reset_index(drop=True)\n",
    "\n",
    "# create fold columns and store the fold\n",
    "for fold, (train_idx, valid_idx) in enumerate(kfold.split(X=train, y=train['trip_duration'])):\n",
    "    train.loc[valid_idx, 'kfold'] = fold\n",
    "\n",
    "# display rows\n",
    "train.head(3)"
   ]
  },
  {
   "cell_type": "markdown",
   "metadata": {},
   "source": [
    "Now we have created a column in which we record the fold the observation belongs to. If we look at the size distribution of the number of folds, we see that the folds are approximately the same. This is what we want!\n",
    "\n",
    "Sometimes there can be a small difference in the number of observations (in our case!) because the number of recorded samples is not easily divisible by the number of folds."
   ]
  },
  {
   "cell_type": "code",
   "execution_count": 4,
   "metadata": {
    "scrolled": true
   },
   "outputs": [
    {
     "data": {
      "text/plain": [
       "1.0    291729\n",
       "3.0    291729\n",
       "2.0    291729\n",
       "0.0    291729\n",
       "4.0    291728\n",
       "Name: kfold, dtype: int64"
      ]
     },
     "execution_count": 4,
     "metadata": {},
     "output_type": "execute_result"
    }
   ],
   "source": [
    "# size of every fold\n",
    "train['kfold'].value_counts()"
   ]
  },
  {
   "cell_type": "markdown",
   "metadata": {},
   "source": [
    "Even though this post does not focus on creating a well-performing predictive model, I'll do simple feature engineering to make the performance of our model a little bit better. This makes me feel a little bit better about myself! The function below extracts some simple date features from the date feature. This also gives us some more variables to work with."
   ]
  },
  {
   "cell_type": "code",
   "execution_count": 5,
   "metadata": {},
   "outputs": [
    {
     "data": {
      "text/html": [
       "<div>\n",
       "<style scoped>\n",
       "    .dataframe tbody tr th:only-of-type {\n",
       "        vertical-align: middle;\n",
       "    }\n",
       "\n",
       "    .dataframe tbody tr th {\n",
       "        vertical-align: top;\n",
       "    }\n",
       "\n",
       "    .dataframe thead th {\n",
       "        text-align: right;\n",
       "    }\n",
       "</style>\n",
       "<table border=\"1\" class=\"dataframe\">\n",
       "  <thead>\n",
       "    <tr style=\"text-align: right;\">\n",
       "      <th></th>\n",
       "      <th>vendor_id</th>\n",
       "      <th>passenger_count</th>\n",
       "      <th>pickup_longitude</th>\n",
       "      <th>pickup_latitude</th>\n",
       "      <th>dropoff_longitude</th>\n",
       "      <th>dropoff_latitude</th>\n",
       "      <th>store_and_fwd_flag</th>\n",
       "      <th>trip_duration</th>\n",
       "      <th>kfold</th>\n",
       "      <th>year</th>\n",
       "      <th>month</th>\n",
       "      <th>week</th>\n",
       "      <th>dayofweek</th>\n",
       "      <th>hour</th>\n",
       "      <th>minute</th>\n",
       "    </tr>\n",
       "  </thead>\n",
       "  <tbody>\n",
       "    <tr>\n",
       "      <th>0</th>\n",
       "      <td>2</td>\n",
       "      <td>1</td>\n",
       "      <td>-73.981728</td>\n",
       "      <td>40.749500</td>\n",
       "      <td>-73.945915</td>\n",
       "      <td>40.792061</td>\n",
       "      <td>N</td>\n",
       "      <td>692</td>\n",
       "      <td>0.0</td>\n",
       "      <td>2016</td>\n",
       "      <td>2</td>\n",
       "      <td>8</td>\n",
       "      <td>5</td>\n",
       "      <td>20</td>\n",
       "      <td>13</td>\n",
       "    </tr>\n",
       "    <tr>\n",
       "      <th>1</th>\n",
       "      <td>2</td>\n",
       "      <td>1</td>\n",
       "      <td>-73.979088</td>\n",
       "      <td>40.771606</td>\n",
       "      <td>-73.946518</td>\n",
       "      <td>40.822655</td>\n",
       "      <td>N</td>\n",
       "      <td>990</td>\n",
       "      <td>0.0</td>\n",
       "      <td>2016</td>\n",
       "      <td>6</td>\n",
       "      <td>22</td>\n",
       "      <td>5</td>\n",
       "      <td>9</td>\n",
       "      <td>54</td>\n",
       "    </tr>\n",
       "    <tr>\n",
       "      <th>2</th>\n",
       "      <td>2</td>\n",
       "      <td>1</td>\n",
       "      <td>-73.989700</td>\n",
       "      <td>40.738651</td>\n",
       "      <td>-73.997772</td>\n",
       "      <td>40.754051</td>\n",
       "      <td>N</td>\n",
       "      <td>647</td>\n",
       "      <td>0.0</td>\n",
       "      <td>2016</td>\n",
       "      <td>5</td>\n",
       "      <td>18</td>\n",
       "      <td>4</td>\n",
       "      <td>17</td>\n",
       "      <td>40</td>\n",
       "    </tr>\n",
       "  </tbody>\n",
       "</table>\n",
       "</div>"
      ],
      "text/plain": [
       "   vendor_id  passenger_count  pickup_longitude  pickup_latitude  \\\n",
       "0          2                1        -73.981728        40.749500   \n",
       "1          2                1        -73.979088        40.771606   \n",
       "2          2                1        -73.989700        40.738651   \n",
       "\n",
       "   dropoff_longitude  dropoff_latitude store_and_fwd_flag  trip_duration  \\\n",
       "0         -73.945915         40.792061                  N            692   \n",
       "1         -73.946518         40.822655                  N            990   \n",
       "2         -73.997772         40.754051                  N            647   \n",
       "\n",
       "   kfold  year  month  week  dayofweek  hour  minute  \n",
       "0    0.0  2016      2     8          5    20      13  \n",
       "1    0.0  2016      6    22          5     9      54  \n",
       "2    0.0  2016      5    18          4    17      40  "
      ]
     },
     "execution_count": 5,
     "metadata": {},
     "output_type": "execute_result"
    }
   ],
   "source": [
    "def extract_dates(data, date_column):\n",
    "    # get datetime index\n",
    "    d = pd.DatetimeIndex(data[date_column])\n",
    "    \n",
    "    # create date features\n",
    "    data['year'], data['month'], data['week'], data['dayofweek'], data['hour'], data['minute'] =\\\n",
    "    d.year, d.month, d.week, d.dayofweek, d.hour, d.minute\n",
    "    return data.drop([date_column], axis=1)\n",
    "\n",
    "# extract date features\n",
    "train = extract_dates(train, 'pickup_datetime')\n",
    "\n",
    "# display \n",
    "train.head(3)"
   ]
  },
  {
   "cell_type": "markdown",
   "metadata": {},
   "source": [
    "## Model training using folds"
   ]
  },
  {
   "cell_type": "markdown",
   "metadata": {},
   "source": [
    "We are now switching to training our machine learning model on our 5 folds. This means that we get as many models as folds, in this case, we'll end up with 5 different models.\n",
    "\n",
    "We create a function that allows us to grab a specific fold of the training data set. This will be our validation dataset! Then the remaining folds become our training set on which we'll train the model. It also lets us define the fold we want to validate our model on.  Furthermore, we can choose to drop certain variables. We always want to remove the `$k$-fold` variable because this feature is not present in the testing data. This variable does not provide any predictive information.\n",
    "\n",
    "As an example of the validation and and training fold:\n",
    "\n",
    "```\n",
    "FOLD = 0 - VALIDATION FOLD = 0 - TRAINING FOLD = [1, 2, 3, 4]\n",
    "FOLD = 1 - VALIDATION FOLD = 1 - TRAINING FOLD = [0, 2, 3, 4]\n",
    "FOLD = 2 - VALIDATION FOLD = 2 - TRAINING FOLD = [1, 0, 3, 4]\n",
    "FOLD = 3 - VALIDATION FOLD = 3 - TRAINING FOLD = [1, 2, 0, 4]\n",
    "FOLD = 4 - VALIDATION FOLD = 4 - TRAINING FOLD = [1, 2, 3, 0]\n",
    "```\n",
    "\n",
    "We then return our dataset with training features (`X_train`), validation features (`X_valid`), our training target values (`y_train`), and our validation targets (`y_valid`).\n",
    "\n",
    "__NOTE__: In this case, I log-transform the target feature for better predictive performance. This is problem specific."
   ]
  },
  {
   "cell_type": "code",
   "execution_count": 6,
   "metadata": {},
   "outputs": [],
   "source": [
    "def get_folds(data, target, drop_features, fold):\n",
    "    \n",
    "    # get training folds and validation fold\n",
    "    train = data[data.kfold != fold].reset_index(drop=True)\n",
    "    valid = data[data.kfold == fold].reset_index(drop=True)\n",
    "    \n",
    "    # extract targets\n",
    "    y_train = np.log1p(train[target])\n",
    "    y_valid = np.log1p(valid[target])\n",
    "    \n",
    "    # features that need to be dropped \n",
    "    feat_to_drop  = [target] + drop_features\n",
    "    \n",
    "    # drop features in train data\n",
    "    X_train = train.drop(feat_to_drop, axis=1)\n",
    "    \n",
    "    # make validation features equal to train features\n",
    "    X_valid = valid[X_train.columns]\n",
    "    \n",
    "    return X_train, X_valid, y_train, y_valid  "
   ]
  },
  {
   "cell_type": "markdown",
   "metadata": {},
   "source": [
    "As a demonstration, we use a random forest machine learning model to predict our target variable. However, you can use any machine learning model here. I set a random state for reproducibility."
   ]
  },
  {
   "cell_type": "code",
   "execution_count": 7,
   "metadata": {},
   "outputs": [],
   "source": [
    "from sklearn.ensemble import RandomForestRegressor\n",
    "\n",
    "MODEL = RandomForestRegressor(n_estimators=10, random_state=1, n_jobs=-1)"
   ]
  },
  {
   "cell_type": "markdown",
   "metadata": {},
   "source": [
    "We then create a new function that takes a model and the number of folds. The model is then trained on the training folds data and validated on the validation folds. For every fold, we save the trained model as a pickle file in the models' directory.\n",
    "\n",
    "We also store names of the features on which the model is trained. We can use these features later to select variables from the test set. When there are categorical variables in your dataset, or you need to impute missing data,  also save this transformation based on the folds. This ensures that we can apply the same transformations to the train, validation, and testing data. "
   ]
  },
  {
   "cell_type": "code",
   "execution_count": 8,
   "metadata": {},
   "outputs": [
    {
     "name": "stdout",
     "output_type": "stream",
     "text": [
      "FOLD: 0 - RMSLE: 0.432\n",
      "FOLD: 1 - RMSLE: 0.4351\n",
      "FOLD: 2 - RMSLE: 0.4286\n",
      "FOLD: 3 - RMSLE: 0.4363\n",
      "FOLD: 4 - RMSLE: 0.4326\n",
      "\n",
      "Mean RMSLE: 0.4329 (0.0027)\n"
     ]
    }
   ],
   "source": [
    "import joblib\n",
    "import numpy as np\n",
    "\n",
    "from sklearn.preprocessing import LabelEncoder\n",
    "from sklearn import metrics\n",
    "\n",
    "def train_folds(data, folds, model):\n",
    "\n",
    "    scores = []\n",
    "    \n",
    "    # loop over number of folds\n",
    "    for fold in range(folds):\n",
    "        \n",
    "        # get train and validation folds\n",
    "        X_train, X_valid, y_train, y_valid = get_folds(data, 'trip_duration', ['kfold'], fold)\n",
    "        \n",
    "        # fitting label encoding on train, validation and testing data\n",
    "        enc_feature = 'store_and_fwd_flag'\n",
    "        \n",
    "        le = LabelEncoder()\n",
    "        \n",
    "        le.fit(np.concatenate([X_train[enc_feature], X_valid[enc_feature], test[enc_feature]]))\n",
    "        \n",
    "        X_train[enc_feature] = le.transform(X_train[enc_feature])\n",
    "        X_valid[enc_feature] = le.transform(X_valid[enc_feature])\n",
    "        \n",
    "        # train on train folds\n",
    "        m = model\n",
    "        m.fit(X_train, y_train)\n",
    "        \n",
    "        # get prediction on valid fold\n",
    "        valid_pred = m.predict(X_valid)\n",
    "        \n",
    "        # print score metric\n",
    "        valid_score = np.sqrt(metrics.mean_squared_error(y_valid, valid_pred))\n",
    "        scores.append(valid_score)\n",
    "        \n",
    "        # print fold model score\n",
    "        print(f\"FOLD: {fold} - RMSLE: {round(valid_score, 4)}\")\n",
    "        \n",
    "        # save model, features and label encoding\n",
    "        joblib.dump(m, f\"models/MODEL_{fold}.json\", compress=3)\n",
    "        joblib.dump(X_train.columns.values, f\"models/FEAT_{fold}.json\", compress=3)\n",
    "        joblib.dump(le, f\"models/ENC_{fold}.json\", compress=3)\n",
    "        \n",
    "    # print mean score    \n",
    "    print(f\"\\nMean RMSLE: {np.mean(scores):.4f} ({np.std(scores):.4f})\")\n",
    "\n",
    "train_folds(train, FOLDS, MODEL)       "
   ]
  },
  {
   "cell_type": "markdown",
   "metadata": {},
   "source": [
    "## Making predictions using folds"
   ]
  },
  {
   "cell_type": "markdown",
   "metadata": {},
   "source": [
    "We can now use the 5 models that we trained and saved to make predictions about our test data. We can then take the average of these 5 predictions and use this as our final prediction.\n",
    "\n",
    "Before we do this, we first create a new data frame with 5 columns to store our 5 test data predictions."
   ]
  },
  {
   "cell_type": "code",
   "execution_count": 9,
   "metadata": {},
   "outputs": [
    {
     "data": {
      "text/html": [
       "<div>\n",
       "<style scoped>\n",
       "    .dataframe tbody tr th:only-of-type {\n",
       "        vertical-align: middle;\n",
       "    }\n",
       "\n",
       "    .dataframe tbody tr th {\n",
       "        vertical-align: top;\n",
       "    }\n",
       "\n",
       "    .dataframe thead th {\n",
       "        text-align: right;\n",
       "    }\n",
       "</style>\n",
       "<table border=\"1\" class=\"dataframe\">\n",
       "  <thead>\n",
       "    <tr style=\"text-align: right;\">\n",
       "      <th></th>\n",
       "      <th>FOLD_0</th>\n",
       "      <th>FOLD_1</th>\n",
       "      <th>FOLD_2</th>\n",
       "      <th>FOLD_3</th>\n",
       "      <th>FOLD_4</th>\n",
       "    </tr>\n",
       "  </thead>\n",
       "  <tbody>\n",
       "    <tr>\n",
       "      <th>0</th>\n",
       "      <td>0.0</td>\n",
       "      <td>0.0</td>\n",
       "      <td>0.0</td>\n",
       "      <td>0.0</td>\n",
       "      <td>0.0</td>\n",
       "    </tr>\n",
       "    <tr>\n",
       "      <th>1</th>\n",
       "      <td>0.0</td>\n",
       "      <td>0.0</td>\n",
       "      <td>0.0</td>\n",
       "      <td>0.0</td>\n",
       "      <td>0.0</td>\n",
       "    </tr>\n",
       "    <tr>\n",
       "      <th>2</th>\n",
       "      <td>0.0</td>\n",
       "      <td>0.0</td>\n",
       "      <td>0.0</td>\n",
       "      <td>0.0</td>\n",
       "      <td>0.0</td>\n",
       "    </tr>\n",
       "  </tbody>\n",
       "</table>\n",
       "</div>"
      ],
      "text/plain": [
       "   FOLD_0  FOLD_1  FOLD_2  FOLD_3  FOLD_4\n",
       "0     0.0     0.0     0.0     0.0     0.0\n",
       "1     0.0     0.0     0.0     0.0     0.0\n",
       "2     0.0     0.0     0.0     0.0     0.0"
      ]
     },
     "execution_count": 9,
     "metadata": {},
     "output_type": "execute_result"
    }
   ],
   "source": [
    "# generate column names\n",
    "folds_columns = [f\"FOLD_{i}\" for i in range(FOLDS)]\n",
    "\n",
    "# create empty dataframe\n",
    "pred_df = pd.DataFrame(data=np.zeros((len(test), FOLDS)), columns=folds_columns)\n",
    "\n",
    "# display empty dataframe\n",
    "pred_df.head(3)"
   ]
  },
  {
   "cell_type": "markdown",
   "metadata": {},
   "source": [
    "We now loop over every fold and load the model, the features files, and the encoding that corresponds to the specific fold. Each of these models then makes a prediction on the test data columns after apply label encoding. We store this prediction in the relevant column of the new data frame."
   ]
  },
  {
   "cell_type": "code",
   "execution_count": 10,
   "metadata": {},
   "outputs": [
    {
     "data": {
      "text/html": [
       "<div>\n",
       "<style scoped>\n",
       "    .dataframe tbody tr th:only-of-type {\n",
       "        vertical-align: middle;\n",
       "    }\n",
       "\n",
       "    .dataframe tbody tr th {\n",
       "        vertical-align: top;\n",
       "    }\n",
       "\n",
       "    .dataframe thead th {\n",
       "        text-align: right;\n",
       "    }\n",
       "</style>\n",
       "<table border=\"1\" class=\"dataframe\">\n",
       "  <thead>\n",
       "    <tr style=\"text-align: right;\">\n",
       "      <th></th>\n",
       "      <th>FOLD_0</th>\n",
       "      <th>FOLD_1</th>\n",
       "      <th>FOLD_2</th>\n",
       "      <th>FOLD_3</th>\n",
       "      <th>FOLD_4</th>\n",
       "    </tr>\n",
       "  </thead>\n",
       "  <tbody>\n",
       "    <tr>\n",
       "      <th>0</th>\n",
       "      <td>628.423460</td>\n",
       "      <td>716.639654</td>\n",
       "      <td>815.767972</td>\n",
       "      <td>728.653350</td>\n",
       "      <td>883.245895</td>\n",
       "    </tr>\n",
       "    <tr>\n",
       "      <th>1</th>\n",
       "      <td>553.966449</td>\n",
       "      <td>639.652247</td>\n",
       "      <td>622.347987</td>\n",
       "      <td>668.222903</td>\n",
       "      <td>671.115124</td>\n",
       "    </tr>\n",
       "    <tr>\n",
       "      <th>2</th>\n",
       "      <td>672.211223</td>\n",
       "      <td>510.996218</td>\n",
       "      <td>563.263305</td>\n",
       "      <td>395.760266</td>\n",
       "      <td>506.161285</td>\n",
       "    </tr>\n",
       "  </tbody>\n",
       "</table>\n",
       "</div>"
      ],
      "text/plain": [
       "       FOLD_0      FOLD_1      FOLD_2      FOLD_3      FOLD_4\n",
       "0  628.423460  716.639654  815.767972  728.653350  883.245895\n",
       "1  553.966449  639.652247  622.347987  668.222903  671.115124\n",
       "2  672.211223  510.996218  563.263305  395.760266  506.161285"
      ]
     },
     "execution_count": 10,
     "metadata": {},
     "output_type": "execute_result"
    }
   ],
   "source": [
    "# loop over folds\n",
    "for fold in range(FOLDS):\n",
    "    \n",
    "    # load test data\n",
    "    test = pd.read_csv('data/test.csv').drop(['id'], axis=1)\n",
    "    \n",
    "    # create date features\n",
    "    test = extract_dates(test, 'pickup_datetime')\n",
    "    \n",
    "    # load label encoder and transform test feature\n",
    "    encoder = joblib.load(f'models/ENC_{fold}.json')\n",
    "    \n",
    "    test['store_and_fwd_flag'] = encoder.transform(test['store_and_fwd_flag'])\n",
    "    \n",
    "    # load fold model\n",
    "    m = joblib.load(f'models/MODEL_{fold}.json')\n",
    "    \n",
    "    # load fold features\n",
    "    feat = joblib.load(f'models/FEAT_{fold}.json')\n",
    "    \n",
    "    # predict on test data\n",
    "    pred = m.predict(test[feat])\n",
    "    \n",
    "    # store predictions in fold column\n",
    "    pred_df[f\"FOLD_{fold}\"] = np.expm1(pred)\n",
    "\n",
    "pred_df.head(3)"
   ]
  },
  {
   "cell_type": "markdown",
   "metadata": {},
   "source": [
    "We can then take the average prediction of these five models as our final prediction."
   ]
  },
  {
   "cell_type": "code",
   "execution_count": 11,
   "metadata": {},
   "outputs": [
    {
     "data": {
      "text/plain": [
       "0    754.546066\n",
       "1    631.060942\n",
       "2    529.678459\n",
       "dtype: float64"
      ]
     },
     "execution_count": 11,
     "metadata": {},
     "output_type": "execute_result"
    }
   ],
   "source": [
    "# get the mean of k predictions\n",
    "final_preds = pred_df.mean(axis=1)\n",
    "\n",
    "# display first 3 rows\n",
    "final_preds.head(3)"
   ]
  },
  {
   "cell_type": "markdown",
   "metadata": {},
   "source": [
    "We store this average prediction in our submission file and upload it to Kaggle to get our testing score. Our testing score on Kaggle is __0.41885__. The internal mean validation score was __0.4329__, which isn't too bad of a difference."
   ]
  },
  {
   "cell_type": "code",
   "execution_count": 12,
   "metadata": {},
   "outputs": [],
   "source": [
    "# load sample submission\n",
    "sample_sub = pd.read_csv('data/sample_submission.csv')\n",
    "\n",
    "# store predictions in column\n",
    "sample_sub['trip_duration'] = final_preds\n",
    "\n",
    "# save predictions\n",
    "sample_sub.to_csv('submissions/submission.csv', index=None)"
   ]
  },
  {
   "cell_type": "markdown",
   "metadata": {},
   "source": [
    "## Conclusion"
   ]
  },
  {
   "cell_type": "markdown",
   "metadata": {},
   "source": [
    "In this post, I demonstrated a simple way to use cross-validation to train a model on folds and use those folds to predict on unseen test data. This results in a cross-validation and testing score that are relatively close to each other."
   ]
  }
 ],
 "metadata": {
  "kernelspec": {
   "display_name": "Python 3",
   "language": "python",
   "name": "python3"
  },
  "language_info": {
   "codemirror_mode": {
    "name": "ipython",
    "version": 3
   },
   "file_extension": ".py",
   "mimetype": "text/x-python",
   "name": "python",
   "nbconvert_exporter": "python",
   "pygments_lexer": "ipython3",
   "version": "3.6.10"
  }
 },
 "nbformat": 4,
 "nbformat_minor": 2
}
