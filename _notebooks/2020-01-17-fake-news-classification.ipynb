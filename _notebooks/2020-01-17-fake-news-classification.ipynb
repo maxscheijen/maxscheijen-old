{
 "cells": [
  {
   "cell_type": "markdown",
   "metadata": {
    "colab_type": "text",
    "id": "uO_3mYZEBwr4"
   },
   "source": [
    "# Fake news Classification with Logistic Regression"
   ]
  },
  {
   "cell_type": "markdown",
   "metadata": {
    "colab_type": "text",
    "id": "lO2S7iiZBwr7"
   },
   "source": [
    "With the maturity of the internet, fake news has become much more common in recent years. Fake news is disinformation which is disguised as \"real\" news to influence public opinion. Can we use machine learning to classify news articles fake or real? Text contains a lot of information let's investigate if we can use it! \n",
    "\n",
    "In this blog post, we construct a simple logistic regression model to classify news articles to be fake or real. We'll be using bag-of-words and tf-idf representations to vectorize our textual data.\n",
    "\n",
    "I try to recreate and improve the Bayesian model from  George McIntire detailed in [this](https://opendatascience.com/how-to-build-a-fake-news-classification-model/) post with a logistic regression model."
   ]
  },
  {
   "cell_type": "markdown",
   "metadata": {
    "colab_type": "text",
    "id": "ipdquevEBwsA"
   },
   "source": [
    "## 1. Load Data"
   ]
  },
  {
   "cell_type": "markdown",
   "metadata": {
    "colab_type": "text",
    "id": "bPmtxaJTBwsC"
   },
   "source": [
    "Let's load news data and look at the first few rows. We'll be using only the core text of the articles to train our classifier. This will keep our model simple. You could also use the title or the title in combination with the full text or other extracted features."
   ]
  },
  {
   "cell_type": "code",
   "execution_count": 1,
   "metadata": {
    "colab": {
     "base_uri": "https://localhost:8080/",
     "height": 204
    },
    "colab_type": "code",
    "executionInfo": {
     "elapsed": 2362,
     "status": "ok",
     "timestamp": 1578944607964,
     "user": {
      "displayName": "Max Scheijen",
      "photoUrl": "https://lh3.googleusercontent.com/-RQdSlQIS-I0/AAAAAAAAAAI/AAAAAAAACm0/Wy39e7s6dqw/s64/photo.jpg",
      "userId": "11185049483091113597"
     },
     "user_tz": -60
    },
    "id": "sJOAIThjBwsD",
    "outputId": "8795785b-edbe-4dca-d059-b2cf8144b163"
   },
   "outputs": [
    {
     "data": {
      "text/html": [
       "<div>\n",
       "<style scoped>\n",
       "    .dataframe tbody tr th:only-of-type {\n",
       "        vertical-align: middle;\n",
       "    }\n",
       "\n",
       "    .dataframe tbody tr th {\n",
       "        vertical-align: top;\n",
       "    }\n",
       "\n",
       "    .dataframe thead th {\n",
       "        text-align: right;\n",
       "    }\n",
       "</style>\n",
       "<table border=\"1\" class=\"dataframe\">\n",
       "  <thead>\n",
       "    <tr style=\"text-align: right;\">\n",
       "      <th></th>\n",
       "      <th>text</th>\n",
       "      <th>label</th>\n",
       "    </tr>\n",
       "  </thead>\n",
       "  <tbody>\n",
       "    <tr>\n",
       "      <th>0</th>\n",
       "      <td>Daniel Greenfield, a Shillman Journalism Fello...</td>\n",
       "      <td>FAKE</td>\n",
       "    </tr>\n",
       "    <tr>\n",
       "      <th>1</th>\n",
       "      <td>Google Pinterest Digg Linkedin Reddit Stumbleu...</td>\n",
       "      <td>FAKE</td>\n",
       "    </tr>\n",
       "    <tr>\n",
       "      <th>2</th>\n",
       "      <td>U.S. Secretary of State John F. Kerry said Mon...</td>\n",
       "      <td>REAL</td>\n",
       "    </tr>\n",
       "    <tr>\n",
       "      <th>3</th>\n",
       "      <td>— Kaydee King (@KaydeeKing) November 9, 2016 T...</td>\n",
       "      <td>FAKE</td>\n",
       "    </tr>\n",
       "    <tr>\n",
       "      <th>4</th>\n",
       "      <td>It's primary day in New York and front-runners...</td>\n",
       "      <td>REAL</td>\n",
       "    </tr>\n",
       "  </tbody>\n",
       "</table>\n",
       "</div>"
      ],
      "text/plain": [
       "                                                text label\n",
       "0  Daniel Greenfield, a Shillman Journalism Fello...  FAKE\n",
       "1  Google Pinterest Digg Linkedin Reddit Stumbleu...  FAKE\n",
       "2  U.S. Secretary of State John F. Kerry said Mon...  REAL\n",
       "3  — Kaydee King (@KaydeeKing) November 9, 2016 T...  FAKE\n",
       "4  It's primary day in New York and front-runners...  REAL"
      ]
     },
     "execution_count": 1,
     "metadata": {},
     "output_type": "execute_result"
    }
   ],
   "source": [
    "import pandas as pd\n",
    "import warnings\n",
    "warnings.filterwarnings(\"ignore\")\n",
    "\n",
    "news = pd.read_csv(\"https://s3.amazonaws.com/assets.datacamp.com/blog_assets/fake_or_real_news.csv\").iloc[:, 1:]\n",
    "news = news[[\"text\", \"label\"]]\n",
    "news.head()"
   ]
  },
  {
   "cell_type": "markdown",
   "metadata": {
    "colab_type": "text",
    "id": "M8GNLpJSBwsI"
   },
   "source": [
    "The data can be downloaded [here](https://s3.amazonaws.com/assets.datacamp.com/blog_assets/fake_or_real_news.csv) and is provided by DataCamp. \n",
    "\n",
    "In the cell above I display the text column which contains the text of the article and the label columns. This las one holds information on whether or not the text is fake."
   ]
  },
  {
   "cell_type": "markdown",
   "metadata": {
    "colab_type": "text",
    "id": "X-TKEGKcBwsJ"
   },
   "source": [
    "## 2. Exploratory Data Analysis"
   ]
  },
  {
   "cell_type": "markdown",
   "metadata": {
    "colab_type": "text",
    "id": "0q9A8B-6BwsK"
   },
   "source": [
    "Before modeling the data, let's first take a look at the textual data! I would like to see if there is a simple difference between real and fake texts. There are several basic ways to look at our textual data. We could look at the number of words of our texts, the number of characters or the average length of words. Furthermore, it maybe could be useful to do part of speech (POS) tagging, do entity recognition or compute readability scores and identify differences between the text classes.\n",
    "\n",
    "Let's start by printing the first sentence of a fake and real news article to see if these text parts give us clues about fake or realness. We do this by using a string method to split on a new line. "
   ]
  },
  {
   "cell_type": "code",
   "execution_count": 2,
   "metadata": {
    "colab": {
     "base_uri": "https://localhost:8080/",
     "height": 34
    },
    "colab_type": "code",
    "executionInfo": {
     "elapsed": 494,
     "status": "ok",
     "timestamp": 1578944616247,
     "user": {
      "displayName": "Max Scheijen",
      "photoUrl": "https://lh3.googleusercontent.com/-RQdSlQIS-I0/AAAAAAAAAAI/AAAAAAAACm0/Wy39e7s6dqw/s64/photo.jpg",
      "userId": "11185049483091113597"
     },
     "user_tz": -60
    },
    "id": "hZB-de7nBwsL",
    "outputId": "0d8cdd10-8f99-47ed-d47d-7b9cba8d4716"
   },
   "outputs": [
    {
     "name": "stdout",
     "output_type": "stream",
     "text": [
      "FAKE ARTICLE: Daniel Greenfield, a Shillman Journalism Fellow at the Freedom Center, is a New York writer focusing on radical Islam.  \n",
      "\n",
      "REAL ARTICLE: U.S. Secretary of State John F. Kerry said Monday that he will stop in Paris later this week, amid criticism that no top American officials attended Sunday’s unity march against terrorism.\n"
     ]
    }
   ],
   "source": [
    "print(\"FAKE ARTICLE: {} \\n\".format(news[\"text\"].str.split('\\n')[0][0]))\n",
    "print(\"REAL ARTICLE: {}\".format(news[\"text\"].str.split('\\n')[2][0]))"
   ]
  },
  {
   "cell_type": "markdown",
   "metadata": {
    "colab_type": "text",
    "id": "D1qJF9JrBwsT"
   },
   "source": [
    "I couldn't really classify these articles to be real or fake, at least not based on their first sentences. Before diving deeper into the exploratory data analysis, let's look at the distribution of our target labels."
   ]
  },
  {
   "cell_type": "code",
   "execution_count": 3,
   "metadata": {
    "colab": {
     "base_uri": "https://localhost:8080/",
     "height": 293
    },
    "colab_type": "code",
    "executionInfo": {
     "elapsed": 746,
     "status": "ok",
     "timestamp": 1578944620625,
     "user": {
      "displayName": "Max Scheijen",
      "photoUrl": "https://lh3.googleusercontent.com/-RQdSlQIS-I0/AAAAAAAAAAI/AAAAAAAACm0/Wy39e7s6dqw/s64/photo.jpg",
      "userId": "11185049483091113597"
     },
     "user_tz": -60
    },
    "id": "k850xLzHBwsV",
    "outputId": "a623ac88-d090-4706-bf61-605238969303"
   },
   "outputs": [
    {
     "data": {
      "image/png": "[encoded data removed]",
      "text/plain": [
       "<Figure size 432x288 with 1 Axes>"
      ]
     },
     "metadata": {},
     "output_type": "display_data"
    }
   ],
   "source": [
    "import matplotlib.pyplot as plt\n",
    "import seaborn as sns\n",
    "plt.style.use('seaborn-whitegrid')\n",
    "\n",
    "sns.set_style('whitegrid')\n",
    "\n",
    "sns.countplot(y =\"label\", data=news)\n",
    "plt.title(\"Label count per target class\", fontsize=14);"
   ]
  },
  {
   "cell_type": "markdown",
   "metadata": {
    "colab_type": "text",
    "id": "j9tlcYVzBwsZ"
   },
   "source": [
    "The figure above shows an even distribution of labels. There are as many fake as real news articles in our datasets. We set our baseline at around 50%. Anything above this score will be better than random guessing."
   ]
  },
  {
   "cell_type": "markdown",
   "metadata": {},
   "source": [
    "### 2.1 Number of words\n",
    "Let's see if there's a difference between the number of words used in real articles compared to fake news texts. We first look at some simple summary statistics to get a feel for the data. We apply a lambda function that splits every word in the texts, stores it in a list and gets the length of the list. After that, we store word count back into a new column in our original data frame."
   ]
  },
  {
   "cell_type": "code",
   "execution_count": 4,
   "metadata": {
    "colab": {
     "base_uri": "https://localhost:8080/",
     "height": 204
    },
    "colab_type": "code",
    "executionInfo": {
     "elapsed": 870,
     "status": "ok",
     "timestamp": 1578944626693,
     "user": {
      "displayName": "Max Scheijen",
      "photoUrl": "https://lh3.googleusercontent.com/-RQdSlQIS-I0/AAAAAAAAAAI/AAAAAAAACm0/Wy39e7s6dqw/s64/photo.jpg",
      "userId": "11185049483091113597"
     },
     "user_tz": -60
    },
    "id": "IhN0lyUBBwsa",
    "outputId": "56e8e30a-be69-4316-af8c-2d9929517251"
   },
   "outputs": [
    {
     "data": {
      "text/html": [
       "<div>\n",
       "<style scoped>\n",
       "    .dataframe tbody tr th:only-of-type {\n",
       "        vertical-align: middle;\n",
       "    }\n",
       "\n",
       "    .dataframe tbody tr th {\n",
       "        vertical-align: top;\n",
       "    }\n",
       "\n",
       "    .dataframe thead th {\n",
       "        text-align: right;\n",
       "    }\n",
       "</style>\n",
       "<table border=\"1\" class=\"dataframe\">\n",
       "  <thead>\n",
       "    <tr style=\"text-align: right;\">\n",
       "      <th></th>\n",
       "      <th>text</th>\n",
       "      <th>label</th>\n",
       "      <th>word_count</th>\n",
       "    </tr>\n",
       "  </thead>\n",
       "  <tbody>\n",
       "    <tr>\n",
       "      <th>0</th>\n",
       "      <td>Daniel Greenfield, a Shillman Journalism Fello...</td>\n",
       "      <td>FAKE</td>\n",
       "      <td>1296</td>\n",
       "    </tr>\n",
       "    <tr>\n",
       "      <th>1</th>\n",
       "      <td>Google Pinterest Digg Linkedin Reddit Stumbleu...</td>\n",
       "      <td>FAKE</td>\n",
       "      <td>446</td>\n",
       "    </tr>\n",
       "    <tr>\n",
       "      <th>2</th>\n",
       "      <td>U.S. Secretary of State John F. Kerry said Mon...</td>\n",
       "      <td>REAL</td>\n",
       "      <td>431</td>\n",
       "    </tr>\n",
       "    <tr>\n",
       "      <th>3</th>\n",
       "      <td>— Kaydee King (@KaydeeKing) November 9, 2016 T...</td>\n",
       "      <td>FAKE</td>\n",
       "      <td>404</td>\n",
       "    </tr>\n",
       "    <tr>\n",
       "      <th>4</th>\n",
       "      <td>It's primary day in New York and front-runners...</td>\n",
       "      <td>REAL</td>\n",
       "      <td>317</td>\n",
       "    </tr>\n",
       "  </tbody>\n",
       "</table>\n",
       "</div>"
      ],
      "text/plain": [
       "                                                text label  word_count\n",
       "0  Daniel Greenfield, a Shillman Journalism Fello...  FAKE        1296\n",
       "1  Google Pinterest Digg Linkedin Reddit Stumbleu...  FAKE         446\n",
       "2  U.S. Secretary of State John F. Kerry said Mon...  REAL         431\n",
       "3  — Kaydee King (@KaydeeKing) November 9, 2016 T...  FAKE         404\n",
       "4  It's primary day in New York and front-runners...  REAL         317"
      ]
     },
     "execution_count": 4,
     "metadata": {},
     "output_type": "execute_result"
    }
   ],
   "source": [
    "news[\"word_count\"] = news['text'].apply(lambda x: len(x.split()))\n",
    "news.head()"
   ]
  },
  {
   "cell_type": "markdown",
   "metadata": {},
   "source": [
    "We can now compute several summary statistics on the word count grouped by there label. Let's see if there are differences in word count between fake and real articles."
   ]
  },
  {
   "cell_type": "code",
   "execution_count": 5,
   "metadata": {
    "colab": {
     "base_uri": "https://localhost:8080/",
     "height": 142
    },
    "colab_type": "code",
    "executionInfo": {
     "elapsed": 492,
     "status": "ok",
     "timestamp": 1578944628482,
     "user": {
      "displayName": "Max Scheijen",
      "photoUrl": "https://lh3.googleusercontent.com/-RQdSlQIS-I0/AAAAAAAAAAI/AAAAAAAACm0/Wy39e7s6dqw/s64/photo.jpg",
      "userId": "11185049483091113597"
     },
     "user_tz": -60
    },
    "id": "KUCoOrumBwse",
    "outputId": "6c6bcefb-d1fe-4f21-96af-4a057032edca"
   },
   "outputs": [
    {
     "data": {
      "text/html": [
       "<div>\n",
       "<style scoped>\n",
       "    .dataframe tbody tr th:only-of-type {\n",
       "        vertical-align: middle;\n",
       "    }\n",
       "\n",
       "    .dataframe tbody tr th {\n",
       "        vertical-align: top;\n",
       "    }\n",
       "\n",
       "    .dataframe thead th {\n",
       "        text-align: right;\n",
       "    }\n",
       "</style>\n",
       "<table border=\"1\" class=\"dataframe\">\n",
       "  <thead>\n",
       "    <tr style=\"text-align: right;\">\n",
       "      <th></th>\n",
       "      <th>count</th>\n",
       "      <th>mean</th>\n",
       "      <th>std</th>\n",
       "      <th>min</th>\n",
       "      <th>25%</th>\n",
       "      <th>50%</th>\n",
       "      <th>75%</th>\n",
       "      <th>max</th>\n",
       "    </tr>\n",
       "    <tr>\n",
       "      <th>label</th>\n",
       "      <th></th>\n",
       "      <th></th>\n",
       "      <th></th>\n",
       "      <th></th>\n",
       "      <th></th>\n",
       "      <th></th>\n",
       "      <th></th>\n",
       "      <th></th>\n",
       "    </tr>\n",
       "  </thead>\n",
       "  <tbody>\n",
       "    <tr>\n",
       "      <th>FAKE</th>\n",
       "      <td>3164.0</td>\n",
       "      <td>679.129267</td>\n",
       "      <td>958.962790</td>\n",
       "      <td>0.0</td>\n",
       "      <td>212.0</td>\n",
       "      <td>421.0</td>\n",
       "      <td>830.0</td>\n",
       "      <td>20891.0</td>\n",
       "    </tr>\n",
       "    <tr>\n",
       "      <th>REAL</th>\n",
       "      <td>3171.0</td>\n",
       "      <td>873.257647</td>\n",
       "      <td>722.483569</td>\n",
       "      <td>7.0</td>\n",
       "      <td>450.5</td>\n",
       "      <td>771.0</td>\n",
       "      <td>1123.0</td>\n",
       "      <td>7602.0</td>\n",
       "    </tr>\n",
       "  </tbody>\n",
       "</table>\n",
       "</div>"
      ],
      "text/plain": [
       "        count        mean         std  min    25%    50%     75%      max\n",
       "label                                                                    \n",
       "FAKE   3164.0  679.129267  958.962790  0.0  212.0  421.0   830.0  20891.0\n",
       "REAL   3171.0  873.257647  722.483569  7.0  450.5  771.0  1123.0   7602.0"
      ]
     },
     "execution_count": 5,
     "metadata": {},
     "output_type": "execute_result"
    }
   ],
   "source": [
    "news.groupby('label')['word_count'].describe()"
   ]
  },
  {
   "cell_type": "markdown",
   "metadata": {
    "colab_type": "text",
    "id": "kjr3Vz2ABwsi"
   },
   "source": [
    "The output above suggests that real news articles have a greater average and median word count, with less variation (standard deviation and percentiles) than the fake news articles. The range of word count of fake news articles is far greater ranging from 0 to more than 20.000. \n",
    "\n",
    "Let's look at the distribution of words and whether or not there is a difference in word count between real and fake news. I will use `seaborn`'s `FaceGrid` and `kdeplot` to display this distribution."
   ]
  },
  {
   "cell_type": "code",
   "execution_count": 6,
   "metadata": {
    "colab": {
     "base_uri": "https://localhost:8080/",
     "height": 209
    },
    "colab_type": "code",
    "executionInfo": {
     "elapsed": 977,
     "status": "ok",
     "timestamp": 1578944632826,
     "user": {
      "displayName": "Max Scheijen",
      "photoUrl": "https://lh3.googleusercontent.com/-RQdSlQIS-I0/AAAAAAAAAAI/AAAAAAAACm0/Wy39e7s6dqw/s64/photo.jpg",
      "userId": "11185049483091113597"
     },
     "user_tz": -60
    },
    "id": "CuimkBb7Bwsk",
    "outputId": "0f5d4203-e4ca-4cac-dda4-d3fe18aeb5ec"
   },
   "outputs": [
    {
     "data": {
      "image/png": "[encoded data removed]",
      "text/plain": [
       "<Figure size 512x180 with 1 Axes>"
      ]
     },
     "metadata": {},
     "output_type": "display_data"
    }
   ],
   "source": [
    "g = sns.FacetGrid(news, hue=\"label\", aspect=2.5, height=2.5)\n",
    "g.map(sns.kdeplot, \"word_count\", shade=True)\n",
    "g.fig.suptitle(\"Word count distribution for Real and Fake News\", y=1.05, size=14);\n",
    "g.add_legend(title=\"\");"
   ]
  },
  {
   "cell_type": "markdown",
   "metadata": {
    "colab_type": "text",
    "id": "zdalqQWQBwso"
   },
   "source": [
    "The plot confirms  our summary statistics inferences. Real news articles seem to have a greater word count than fake news articles. We could do statistical tests to confirm this. Further exploration could look at the number of characters or number of sentences. We, however, are going to do this but look at readability."
   ]
  },
  {
   "cell_type": "markdown",
   "metadata": {},
   "source": [
    "### 2.2 Readability\n",
    "Are fake news articles easier to read real news articles? Let's find out! We'll use a readability score to quantify this. Readability tells us the ease with which the reader can understand a text. The readability depends on the contents of the texts. It measures the complexity of the vocabulary and syntax.\n",
    "\n",
    "We'll use the [Gunning fog index](https://en.wikipedia.org/wiki/Gunning_fog_index) to classify the readability of our news articles. This index takes into account two basic factors; \n",
    "1. The greater the average sentence length the harder the text is to read.\n",
    "2. The greater the percentage of complex words, the harder the text is to read.\n",
    "\n",
    "The formula returns a score corresponding to the grade in which someone would be able to read the text. The higher the index the harder the text is to read. I'll use the `textstat` package to get the score of every text and store it in a new column. "
   ]
  },
  {
   "cell_type": "code",
   "execution_count": 7,
   "metadata": {
    "colab": {
     "base_uri": "https://localhost:8080/",
     "height": 204
    },
    "colab_type": "code",
    "executionInfo": {
     "elapsed": 25973,
     "status": "ok",
     "timestamp": 1578944662205,
     "user": {
      "displayName": "Max Scheijen",
      "photoUrl": "https://lh3.googleusercontent.com/-RQdSlQIS-I0/AAAAAAAAAAI/AAAAAAAACm0/Wy39e7s6dqw/s64/photo.jpg",
      "userId": "11185049483091113597"
     },
     "user_tz": -60
    },
    "id": "aUCBQ187Bwsp",
    "outputId": "beb754ee-0077-4176-fd60-087a66dff58b"
   },
   "outputs": [
    {
     "data": {
      "text/html": [
       "<div>\n",
       "<style scoped>\n",
       "    .dataframe tbody tr th:only-of-type {\n",
       "        vertical-align: middle;\n",
       "    }\n",
       "\n",
       "    .dataframe tbody tr th {\n",
       "        vertical-align: top;\n",
       "    }\n",
       "\n",
       "    .dataframe thead th {\n",
       "        text-align: right;\n",
       "    }\n",
       "</style>\n",
       "<table border=\"1\" class=\"dataframe\">\n",
       "  <thead>\n",
       "    <tr style=\"text-align: right;\">\n",
       "      <th></th>\n",
       "      <th>text</th>\n",
       "      <th>label</th>\n",
       "      <th>gunning_fog_score</th>\n",
       "    </tr>\n",
       "  </thead>\n",
       "  <tbody>\n",
       "    <tr>\n",
       "      <th>0</th>\n",
       "      <td>Daniel Greenfield, a Shillman Journalism Fello...</td>\n",
       "      <td>FAKE</td>\n",
       "      <td>12.30</td>\n",
       "    </tr>\n",
       "    <tr>\n",
       "      <th>1</th>\n",
       "      <td>Google Pinterest Digg Linkedin Reddit Stumbleu...</td>\n",
       "      <td>FAKE</td>\n",
       "      <td>13.32</td>\n",
       "    </tr>\n",
       "    <tr>\n",
       "      <th>2</th>\n",
       "      <td>U.S. Secretary of State John F. Kerry said Mon...</td>\n",
       "      <td>REAL</td>\n",
       "      <td>20.21</td>\n",
       "    </tr>\n",
       "    <tr>\n",
       "      <th>3</th>\n",
       "      <td>— Kaydee King (@KaydeeKing) November 9, 2016 T...</td>\n",
       "      <td>FAKE</td>\n",
       "      <td>19.53</td>\n",
       "    </tr>\n",
       "    <tr>\n",
       "      <th>4</th>\n",
       "      <td>It's primary day in New York and front-runners...</td>\n",
       "      <td>REAL</td>\n",
       "      <td>16.35</td>\n",
       "    </tr>\n",
       "  </tbody>\n",
       "</table>\n",
       "</div>"
      ],
      "text/plain": [
       "                                                text label  gunning_fog_score\n",
       "0  Daniel Greenfield, a Shillman Journalism Fello...  FAKE              12.30\n",
       "1  Google Pinterest Digg Linkedin Reddit Stumbleu...  FAKE              13.32\n",
       "2  U.S. Secretary of State John F. Kerry said Mon...  REAL              20.21\n",
       "3  — Kaydee King (@KaydeeKing) November 9, 2016 T...  FAKE              19.53\n",
       "4  It's primary day in New York and front-runners...  REAL              16.35"
      ]
     },
     "execution_count": 7,
     "metadata": {},
     "output_type": "execute_result"
    }
   ],
   "source": [
    "import textstat\n",
    "news['gunning_fog_score'] = news['text'].apply(lambda x: textstat.gunning_fog(x))\n",
    "news[['text','label', 'gunning_fog_score']].head()"
   ]
  },
  {
   "cell_type": "markdown",
   "metadata": {
    "colab_type": "text",
    "id": "t6Ht4aFqBwst"
   },
   "source": [
    "Let's group by the target label and see if there is a difference between the readability score for real and fake news articles. _I don't know if textstat gives as the correct gunning fog score (the seem high), but we can use it for comparison._"
   ]
  },
  {
   "cell_type": "code",
   "execution_count": 8,
   "metadata": {
    "colab": {
     "base_uri": "https://localhost:8080/",
     "height": 142
    },
    "colab_type": "code",
    "executionInfo": {
     "elapsed": 645,
     "status": "ok",
     "timestamp": 1578944662209,
     "user": {
      "displayName": "Max Scheijen",
      "photoUrl": "https://lh3.googleusercontent.com/-RQdSlQIS-I0/AAAAAAAAAAI/AAAAAAAACm0/Wy39e7s6dqw/s64/photo.jpg",
      "userId": "11185049483091113597"
     },
     "user_tz": -60
    },
    "id": "Jkx3JcAXBwsu",
    "outputId": "f3455323-f288-407d-944a-87ab9f769be6"
   },
   "outputs": [
    {
     "data": {
      "text/html": [
       "<div>\n",
       "<style scoped>\n",
       "    .dataframe tbody tr th:only-of-type {\n",
       "        vertical-align: middle;\n",
       "    }\n",
       "\n",
       "    .dataframe tbody tr th {\n",
       "        vertical-align: top;\n",
       "    }\n",
       "\n",
       "    .dataframe thead th {\n",
       "        text-align: right;\n",
       "    }\n",
       "</style>\n",
       "<table border=\"1\" class=\"dataframe\">\n",
       "  <thead>\n",
       "    <tr style=\"text-align: right;\">\n",
       "      <th></th>\n",
       "      <th>count</th>\n",
       "      <th>mean</th>\n",
       "      <th>std</th>\n",
       "      <th>min</th>\n",
       "      <th>25%</th>\n",
       "      <th>50%</th>\n",
       "      <th>75%</th>\n",
       "      <th>max</th>\n",
       "    </tr>\n",
       "    <tr>\n",
       "      <th>label</th>\n",
       "      <th></th>\n",
       "      <th></th>\n",
       "      <th></th>\n",
       "      <th></th>\n",
       "      <th></th>\n",
       "      <th></th>\n",
       "      <th></th>\n",
       "      <th></th>\n",
       "    </tr>\n",
       "  </thead>\n",
       "  <tbody>\n",
       "    <tr>\n",
       "      <th>FAKE</th>\n",
       "      <td>3164.0</td>\n",
       "      <td>20.785307</td>\n",
       "      <td>15.188323</td>\n",
       "      <td>0.0</td>\n",
       "      <td>13.3075</td>\n",
       "      <td>17.27</td>\n",
       "      <td>23.595</td>\n",
       "      <td>325.13</td>\n",
       "    </tr>\n",
       "    <tr>\n",
       "      <th>REAL</th>\n",
       "      <td>3171.0</td>\n",
       "      <td>23.458212</td>\n",
       "      <td>14.673496</td>\n",
       "      <td>3.6</td>\n",
       "      <td>16.1600</td>\n",
       "      <td>20.67</td>\n",
       "      <td>26.950</td>\n",
       "      <td>440.66</td>\n",
       "    </tr>\n",
       "  </tbody>\n",
       "</table>\n",
       "</div>"
      ],
      "text/plain": [
       "        count       mean        std  min      25%    50%     75%     max\n",
       "label                                                                   \n",
       "FAKE   3164.0  20.785307  15.188323  0.0  13.3075  17.27  23.595  325.13\n",
       "REAL   3171.0  23.458212  14.673496  3.6  16.1600  20.67  26.950  440.66"
      ]
     },
     "execution_count": 8,
     "metadata": {},
     "output_type": "execute_result"
    }
   ],
   "source": [
    "news.groupby('label')['gunning_fog_score'].describe()"
   ]
  },
  {
   "cell_type": "markdown",
   "metadata": {
    "colab_type": "text",
    "id": "IuszxIZjBwsy"
   },
   "source": [
    "The summary statistics of the Gunning fog index suggest that real texts are somewhat harder to read. They also have less variation in their readability score. Which if we think about it makes some intuitive sense. If we plot the distribution of scores we also see this difference."
   ]
  },
  {
   "cell_type": "code",
   "execution_count": 9,
   "metadata": {
    "colab": {
     "base_uri": "https://localhost:8080/",
     "height": 209
    },
    "colab_type": "code",
    "executionInfo": {
     "elapsed": 1338,
     "status": "ok",
     "timestamp": 1578944665616,
     "user": {
      "displayName": "Max Scheijen",
      "photoUrl": "https://lh3.googleusercontent.com/-RQdSlQIS-I0/AAAAAAAAAAI/AAAAAAAACm0/Wy39e7s6dqw/s64/photo.jpg",
      "userId": "11185049483091113597"
     },
     "user_tz": -60
    },
    "id": "AxCynblMBws0",
    "outputId": "36270070-4ed7-4366-cbd2-082d37cd9c7d"
   },
   "outputs": [
    {
     "data": {
      "image/png": "[encoded data removed]",
      "text/plain": [
       "<Figure size 512x180 with 1 Axes>"
      ]
     },
     "metadata": {},
     "output_type": "display_data"
    }
   ],
   "source": [
    "g = sns.FacetGrid(news, hue=\"label\", aspect=2.5, height=2.5)\n",
    "g.map(sns.kdeplot, \"gunning_fog_score\", shade=True)\n",
    "g.fig.suptitle(\"Gunning Fog Score score distribution for Real and Fake News\", y=1.05, size=14);\n",
    "g.add_legend(title=\"\")\n",
    "plt.xlim(0,100);"
   ]
  },
  {
   "cell_type": "markdown",
   "metadata": {
    "colab_type": "text",
    "id": "H14FzcrZBws4"
   },
   "source": [
    "## 3. Train and Validation  & First Model\n",
    "Before we go and model the data we split the data into a train and validation set. We create a validation dataset to validate our classifier. We'll use 75% of the data for training the logistic and 25% for validating our model. We'll only use the text of the article, not the title, word count or readability score. Furthermore, we use stratification to ensure that we have even distribution of target label classes in the train and validation data."
   ]
  },
  {
   "cell_type": "code",
   "execution_count": 10,
   "metadata": {
    "colab": {
     "base_uri": "https://localhost:8080/",
     "height": 34
    },
    "colab_type": "code",
    "executionInfo": {
     "elapsed": 529,
     "status": "ok",
     "timestamp": 1578944676243,
     "user": {
      "displayName": "Max Scheijen",
      "photoUrl": "https://lh3.googleusercontent.com/-RQdSlQIS-I0/AAAAAAAAAAI/AAAAAAAACm0/Wy39e7s6dqw/s64/photo.jpg",
      "userId": "11185049483091113597"
     },
     "user_tz": -60
    },
    "id": "rAHt72RFBws5",
    "outputId": "91906cea-5085-4270-f925-02baa7967e12"
   },
   "outputs": [
    {
     "data": {
      "text/plain": [
       "'Train shape = (4751, 4) Test shape = (1584, 4)'"
      ]
     },
     "execution_count": 10,
     "metadata": {},
     "output_type": "execute_result"
    }
   ],
   "source": [
    "from sklearn.model_selection import train_test_split\n",
    "\n",
    "target = news.label.values\n",
    "X_train, X_valid, y_train, y_valid = train_test_split(news, target, test_size=0.25, random_state=2, stratify=target)\n",
    "\n",
    "f\"Train shape = {X_train.shape} Test shape = {X_valid.shape}\""
   ]
  },
  {
   "cell_type": "markdown",
   "metadata": {},
   "source": [
    "Let's use a train a logistic regression classifier. We use stratified cross validation to validate our model."
   ]
  },
  {
   "cell_type": "code",
   "execution_count": 11,
   "metadata": {},
   "outputs": [
    {
     "data": {
      "text/plain": [
       "0.61734409553295"
      ]
     },
     "execution_count": 11,
     "metadata": {},
     "output_type": "execute_result"
    }
   ],
   "source": [
    "from sklearn.linear_model import LogisticRegression\n",
    "from sklearn.model_selection import StratifiedKFold, cross_val_score\n",
    "\n",
    "logreg = LogisticRegression()\n",
    "\n",
    "kfold = StratifiedKFold(n_splits=10, random_state=2)\n",
    "cv = cross_val_score(logreg, X_train[['word_count', 'gunning_fog_score']], y_train, cv=kfold)\n",
    "cv.mean()"
   ]
  },
  {
   "cell_type": "markdown",
   "metadata": {
    "colab_type": "text",
    "id": "MYyNGqXfBws8",
    "toc-hr-collapsed": true
   },
   "source": [
    "## 4. Feature Extraction and Modeling the Data\n",
    "These simple statistics do not seem to really help us classify fake news. Accuracy is higher than random but I think we can do better. We need to find another way to represent text that does allow a model to make better classifications. \n",
    "\n",
    "### 4.1 Bag-of-words model\n",
    "We will start by building a  bag-of-words model. A bag of words model is a simple way to represent text. In a bag-of-words model, we extract word tokens from the text and compute the word frequency of these tokens. Based on these frequencies and our corpus vocabulary we build word vector.  The frequency of occurrence of each word in a text is a feature we train our classifier on. \n",
    "\n",
    "Simply put, every row represents a text/article from the dataset, every column represents a term (word) of the dataset, and every cell contains the frequency count of that word in a particular text.\n",
    "\n",
    "We can construct a bag of word model with  `CountVectorizer` from `sklearn`.  We fit the CountVecotrizer on the training data. After that, we transform the train and validation data. This will create a sparse matrix that we can transform into a dense matrix using the to  `toarray` function.\n",
    "\n",
    "We also don't take stop words into account, because they often do not provide useful information."
   ]
  },
  {
   "cell_type": "code",
   "execution_count": 12,
   "metadata": {
    "colab": {
     "base_uri": "https://localhost:8080/",
     "height": 34
    },
    "colab_type": "code",
    "executionInfo": {
     "elapsed": 4934,
     "status": "ok",
     "timestamp": 1578944684085,
     "user": {
      "displayName": "Max Scheijen",
      "photoUrl": "https://lh3.googleusercontent.com/-RQdSlQIS-I0/AAAAAAAAAAI/AAAAAAAACm0/Wy39e7s6dqw/s64/photo.jpg",
      "userId": "11185049483091113597"
     },
     "user_tz": -60
    },
    "id": "yXK-ftQfQ-jk",
    "outputId": "7efa1d1f-2002-4993-e298-6e8d8977ba1c"
   },
   "outputs": [
    {
     "data": {
      "text/plain": [
       "(4751, 60245)"
      ]
     },
     "execution_count": 12,
     "metadata": {},
     "output_type": "execute_result"
    }
   ],
   "source": [
    "from sklearn.feature_extraction.text import CountVectorizer\n",
    "\n",
    "count_vector = CountVectorizer(analyzer='word', stop_words='english')\n",
    "\n",
    "count_vector_train = count_vector.fit_transform(X_train['text'])\n",
    "count_vector_valid = count_vector.transform(X_valid['text'])\n",
    "\n",
    "count_vector_train.toarray().shape"
   ]
  },
  {
   "cell_type": "markdown",
   "metadata": {},
   "source": [
    "We can see that based on training data this vector has 60245 features. Let's look at these features by using `get_feature_names` on the bag-of-words vectorizer."
   ]
  },
  {
   "cell_type": "code",
   "execution_count": 13,
   "metadata": {},
   "outputs": [
    {
     "data": {
      "text/html": [
       "<div>\n",
       "<style scoped>\n",
       "    .dataframe tbody tr th:only-of-type {\n",
       "        vertical-align: middle;\n",
       "    }\n",
       "\n",
       "    .dataframe tbody tr th {\n",
       "        vertical-align: top;\n",
       "    }\n",
       "\n",
       "    .dataframe thead th {\n",
       "        text-align: right;\n",
       "    }\n",
       "</style>\n",
       "<table border=\"1\" class=\"dataframe\">\n",
       "  <thead>\n",
       "    <tr style=\"text-align: right;\">\n",
       "      <th></th>\n",
       "      <th>arguably</th>\n",
       "      <th>argue</th>\n",
       "      <th>argued</th>\n",
       "      <th>argues</th>\n",
       "      <th>arguing</th>\n",
       "    </tr>\n",
       "  </thead>\n",
       "  <tbody>\n",
       "    <tr>\n",
       "      <th>0</th>\n",
       "      <td>0</td>\n",
       "      <td>0</td>\n",
       "      <td>1</td>\n",
       "      <td>0</td>\n",
       "      <td>0</td>\n",
       "    </tr>\n",
       "    <tr>\n",
       "      <th>1</th>\n",
       "      <td>0</td>\n",
       "      <td>0</td>\n",
       "      <td>0</td>\n",
       "      <td>0</td>\n",
       "      <td>0</td>\n",
       "    </tr>\n",
       "    <tr>\n",
       "      <th>2</th>\n",
       "      <td>0</td>\n",
       "      <td>0</td>\n",
       "      <td>0</td>\n",
       "      <td>0</td>\n",
       "      <td>0</td>\n",
       "    </tr>\n",
       "    <tr>\n",
       "      <th>3</th>\n",
       "      <td>0</td>\n",
       "      <td>0</td>\n",
       "      <td>0</td>\n",
       "      <td>0</td>\n",
       "      <td>0</td>\n",
       "    </tr>\n",
       "    <tr>\n",
       "      <th>4</th>\n",
       "      <td>0</td>\n",
       "      <td>0</td>\n",
       "      <td>0</td>\n",
       "      <td>0</td>\n",
       "      <td>0</td>\n",
       "    </tr>\n",
       "  </tbody>\n",
       "</table>\n",
       "</div>"
      ],
      "text/plain": [
       "   arguably  argue  argued  argues  arguing\n",
       "0         0      0       1       0        0\n",
       "1         0      0       0       0        0\n",
       "2         0      0       0       0        0\n",
       "3         0      0       0       0        0\n",
       "4         0      0       0       0        0"
      ]
     },
     "execution_count": 13,
     "metadata": {},
     "output_type": "execute_result"
    }
   ],
   "source": [
    "bow_df = pd.DataFrame(data = count_vector_train.toarray(), \n",
    "            columns= count_vector.get_feature_names())\n",
    "bow_df.iloc[:, 4595:4600].head()"
   ]
  },
  {
   "cell_type": "markdown",
   "metadata": {},
   "source": [
    "We can see that the word \"argued\" occurs 1 time in the first document of our training data.\n",
    "\n",
    "We'll use this bag-of-words model to train our logistic regression."
   ]
  },
  {
   "cell_type": "code",
   "execution_count": 14,
   "metadata": {},
   "outputs": [
    {
     "data": {
      "text/plain": [
       "0.9155939849624062"
      ]
     },
     "execution_count": 14,
     "metadata": {},
     "output_type": "execute_result"
    }
   ],
   "source": [
    "logreg = LogisticRegression()\n",
    "\n",
    "kfold = StratifiedKFold(n_splits=10, random_state=2)\n",
    "cv = cross_val_score(logreg, count_vector_train, y_train, cv=kfold)\n",
    "cv.mean()"
   ]
  },
  {
   "cell_type": "markdown",
   "metadata": {},
   "source": [
    "The logistic regression algorithm performs much better on this basic bag-of-words model with a cross-validation score of 91,55%."
   ]
  },
  {
   "cell_type": "markdown",
   "metadata": {},
   "source": [
    "### 4.2 Term Frequency and Inverse Data Frequency (tf-idf)\n",
    "Another way to represent text is by using term frequency-inverse data frequency (tf-idf). This way of representing text quantifies how relative importance a word is to a text and in our dataset.\n",
    "\n",
    "$$w_{i,j} = tf_{i,j} \\times \\log(\\frac{N}{df_i})$$\n",
    "\n",
    "The first component (tf) calculates the word frequency $tf_{i,j}$ by counting how many times the word appears in a document $n_{i,j}$ compared to all the words in the document $\\sum_kn_{i,j}$.\n",
    "\n",
    "$$tf_{i,j} = \\frac{n_{i,j}}{\\sum_kn_{i,j}}$$\n",
    "\n",
    "The second component (idf) can be calculated as the logarithm of the number of texts in the dataset, divided by the total number of texts where the specific word appears. This gives weight to every word. Rare words get a high idf score, the more common words a low score.\n",
    "\n",
    "$$idf(w) = \\log(\\frac{N}{df_t})$$\n",
    "\n",
    "tf-idf basically measures of original a word.\n",
    "\n",
    "We can use `TfidfVectorizer` to create a tf-idf representation of our news articles by fitting and transforming the data."
   ]
  },
  {
   "cell_type": "code",
   "execution_count": 15,
   "metadata": {},
   "outputs": [
    {
     "data": {
      "text/plain": [
       "(4751, 60245)"
      ]
     },
     "execution_count": 15,
     "metadata": {},
     "output_type": "execute_result"
    }
   ],
   "source": [
    "from sklearn.feature_extraction.text import TfidfVectorizer\n",
    "\n",
    "tfidf_vector = TfidfVectorizer(analyzer=\"word\", stop_words='english')\n",
    "\n",
    "tfidf_train = tfidf_vector.fit_transform(X_train['text'])\n",
    "tfidf_valid = tfidf_vector.transform(X_valid['text'])\n",
    "\n",
    "tfidf_train.toarray().shape"
   ]
  },
  {
   "cell_type": "markdown",
   "metadata": {},
   "source": [
    "Let's also extract the feature names and look at their corresponding weights."
   ]
  },
  {
   "cell_type": "code",
   "execution_count": 16,
   "metadata": {},
   "outputs": [
    {
     "data": {
      "text/html": [
       "<div>\n",
       "<style scoped>\n",
       "    .dataframe tbody tr th:only-of-type {\n",
       "        vertical-align: middle;\n",
       "    }\n",
       "\n",
       "    .dataframe tbody tr th {\n",
       "        vertical-align: top;\n",
       "    }\n",
       "\n",
       "    .dataframe thead th {\n",
       "        text-align: right;\n",
       "    }\n",
       "</style>\n",
       "<table border=\"1\" class=\"dataframe\">\n",
       "  <thead>\n",
       "    <tr style=\"text-align: right;\">\n",
       "      <th></th>\n",
       "      <th>arguably</th>\n",
       "      <th>argue</th>\n",
       "      <th>argued</th>\n",
       "      <th>argues</th>\n",
       "      <th>arguing</th>\n",
       "    </tr>\n",
       "  </thead>\n",
       "  <tbody>\n",
       "    <tr>\n",
       "      <th>0</th>\n",
       "      <td>0.0</td>\n",
       "      <td>0.0</td>\n",
       "      <td>0.030122</td>\n",
       "      <td>0.0</td>\n",
       "      <td>0.0</td>\n",
       "    </tr>\n",
       "    <tr>\n",
       "      <th>1</th>\n",
       "      <td>0.0</td>\n",
       "      <td>0.0</td>\n",
       "      <td>0.000000</td>\n",
       "      <td>0.0</td>\n",
       "      <td>0.0</td>\n",
       "    </tr>\n",
       "    <tr>\n",
       "      <th>2</th>\n",
       "      <td>0.0</td>\n",
       "      <td>0.0</td>\n",
       "      <td>0.000000</td>\n",
       "      <td>0.0</td>\n",
       "      <td>0.0</td>\n",
       "    </tr>\n",
       "    <tr>\n",
       "      <th>3</th>\n",
       "      <td>0.0</td>\n",
       "      <td>0.0</td>\n",
       "      <td>0.000000</td>\n",
       "      <td>0.0</td>\n",
       "      <td>0.0</td>\n",
       "    </tr>\n",
       "    <tr>\n",
       "      <th>4</th>\n",
       "      <td>0.0</td>\n",
       "      <td>0.0</td>\n",
       "      <td>0.000000</td>\n",
       "      <td>0.0</td>\n",
       "      <td>0.0</td>\n",
       "    </tr>\n",
       "  </tbody>\n",
       "</table>\n",
       "</div>"
      ],
      "text/plain": [
       "   arguably  argue    argued  argues  arguing\n",
       "0       0.0    0.0  0.030122     0.0      0.0\n",
       "1       0.0    0.0  0.000000     0.0      0.0\n",
       "2       0.0    0.0  0.000000     0.0      0.0\n",
       "3       0.0    0.0  0.000000     0.0      0.0\n",
       "4       0.0    0.0  0.000000     0.0      0.0"
      ]
     },
     "execution_count": 16,
     "metadata": {},
     "output_type": "execute_result"
    }
   ],
   "source": [
    "tfidf_df = pd.DataFrame(data = tfidf_train.toarray(), \n",
    "            columns= tfidf_vector.get_feature_names())\n",
    "tfidf_df.iloc[:, 4595:4600].head()"
   ]
  },
  {
   "cell_type": "markdown",
   "metadata": {},
   "source": [
    "We can see that now there are weights assigned to the features per document.\n",
    "\n",
    "Let's use the same logistic regression algorithm on the tf-idf representation as on the bag-of-words model. "
   ]
  },
  {
   "cell_type": "code",
   "execution_count": 17,
   "metadata": {},
   "outputs": [
    {
     "data": {
      "text/plain": [
       "0.9103321539141973"
      ]
     },
     "execution_count": 17,
     "metadata": {},
     "output_type": "execute_result"
    }
   ],
   "source": [
    "logreg = LogisticRegression()\n",
    "\n",
    "kfold = StratifiedKFold(n_splits=10, random_state=2)\n",
    "cv = cross_val_score(logreg, tfidf_train, y_train, cv=kfold)\n",
    "cv.mean()"
   ]
  },
  {
   "cell_type": "markdown",
   "metadata": {},
   "source": [
    "When using tf-idf representation the logistic regression model has an accuracy of 91,03 %. This is a little less than the bag-of-words model."
   ]
  },
  {
   "cell_type": "markdown",
   "metadata": {
    "colab_type": "text",
    "id": "mioWzUu8YKUW"
   },
   "source": [
    "### 4.3 Text processing\n",
    "Both the bag-of-words and the tf-idf model have a lot of features (60,000). Let's look at ways make to turn down the number of features. \n",
    "\n",
    "Let's apply [lemmatization](https://en.wikipedia.org/wiki/Lemmatisatio). This process converts words into there base form. We perform lemmatization by using `nltk`'s lemmatization functionality. \n",
    "\n",
    "First, we define a `WordNetLemmatizer`. Then we define a lambda function that takes a string, loops over the words of the string (text), stores them in a list. Lastly, words are joined back together into a string."
   ]
  },
  {
   "cell_type": "code",
   "execution_count": 18,
   "metadata": {
    "colab": {},
    "colab_type": "code",
    "id": "L3mSU4ycRLf_"
   },
   "outputs": [],
   "source": [
    "from nltk.stem import WordNetLemmatizer\n",
    "\n",
    "lemma = WordNetLemmatizer()\n",
    "\n",
    "X_train_lemma = X_train['text'].apply(lambda x: ' '.join([lemma.lemmatize(word) for word in x.strip().split(' ')]))\n",
    "X_valid_lemma = X_valid['text'].apply(lambda x: ' '.join([lemma.lemmatize(word) for word in x.strip().split(' ')]))"
   ]
  },
  {
   "cell_type": "markdown",
   "metadata": {},
   "source": [
    "Let's look at the dimensions of our bag-of-words model after applying lemmatization."
   ]
  },
  {
   "cell_type": "code",
   "execution_count": 19,
   "metadata": {},
   "outputs": [
    {
     "data": {
      "text/plain": [
       "(4751, 58849)"
      ]
     },
     "execution_count": 19,
     "metadata": {},
     "output_type": "execute_result"
    }
   ],
   "source": [
    "cv_lemma_train = count_vector.fit_transform(X_train_lemma)\n",
    "cv_lemma_valid = count_vector.transform(X_train_lemma)\n",
    "\n",
    "cv_lemma_train.toarray().shape"
   ]
  },
  {
   "cell_type": "markdown",
   "metadata": {
    "colab_type": "text",
    "id": "-waEWIG0RRwC"
   },
   "source": [
    "We can see we lost about 2,000 features using lemmatization and removing stop words."
   ]
  },
  {
   "cell_type": "markdown",
   "metadata": {
    "colab_type": "text",
    "id": "7nConOb_nvqt"
   },
   "source": [
    "Let's compare some models that we fit on the bag of words representation with lemmatization applied. "
   ]
  },
  {
   "cell_type": "code",
   "execution_count": 20,
   "metadata": {},
   "outputs": [
    {
     "data": {
      "text/plain": [
       "0.9160141530296328"
      ]
     },
     "execution_count": 20,
     "metadata": {},
     "output_type": "execute_result"
    }
   ],
   "source": [
    "logreg = LogisticRegression()\n",
    "\n",
    "kfold = StratifiedKFold(n_splits=10, random_state=2)\n",
    "cv = cross_val_score(logreg, cv_lemma_train, y_train, cv=kfold)\n",
    "cv.mean()"
   ]
  },
  {
   "cell_type": "markdown",
   "metadata": {},
   "source": [
    "We can see that we achieve a train accuracy score of validation score of 91.60% of the logistic regression. This model also has the lowest variance. But can we use other text representations to achieve better accuracy scores? Let's look at tf-idf with lemmatization applied."
   ]
  },
  {
   "cell_type": "code",
   "execution_count": 21,
   "metadata": {},
   "outputs": [
    {
     "data": {
      "text/plain": [
       "0.9115944272445822"
      ]
     },
     "execution_count": 21,
     "metadata": {},
     "output_type": "execute_result"
    }
   ],
   "source": [
    "tfidf_lemma_train = tfidf_vector.fit_transform(X_train_lemma)\n",
    "tfidf_lemma_valid = tfidf_vector.transform(X_valid_lemma)\n",
    "\n",
    "logreg = LogisticRegression()\n",
    "\n",
    "kfold = StratifiedKFold(n_splits=10, random_state=2)\n",
    "cv = cross_val_score(logreg, tfidf_lemma_train, y_train, cv=kfold)\n",
    "cv.mean()"
   ]
  },
  {
   "cell_type": "markdown",
   "metadata": {},
   "source": [
    "The tf-idf model also improved slightly. Overall lemmatization decreased the number of features of our data without decreasing the accuracy of our classifier.\n",
    "\n",
    "We can also combine several representations. We can create a tf-idf representation of the characters in the articles and combine them with the tf-idf word representation. Let's first create the character model. To keep the number of features smaller we set the max_features to 60000."
   ]
  },
  {
   "cell_type": "code",
   "execution_count": 22,
   "metadata": {
    "colab": {},
    "colab_type": "code",
    "id": "OQSWAaOLBwtB"
   },
   "outputs": [],
   "source": [
    "tfidf_char = TfidfVectorizer(analyzer='char', strip_accents='unicode',\n",
    "                             stop_words='english', ngram_range=(2, 6),\n",
    "                             max_features=60000)\n",
    "\n",
    "tfidf_train_char = tfidf_char.fit_transform(X_train_lemma)\n",
    "tfidf_valid_char = tfidf_char.transform(X_valid_lemma)"
   ]
  },
  {
   "cell_type": "markdown",
   "metadata": {
    "colab_type": "text",
    "id": "12h0GPLDBwtE"
   },
   "source": [
    "We use the `hstack()` function from SciPy to horizontally stack the sparse word and character matrices."
   ]
  },
  {
   "cell_type": "code",
   "execution_count": 23,
   "metadata": {
    "colab": {},
    "colab_type": "code",
    "id": "-Tj_IF37BwtF"
   },
   "outputs": [],
   "source": [
    "from scipy.sparse import hstack\n",
    "train_features = hstack([tfidf_lemma_train, tfidf_train_char])\n",
    "valid_features = hstack([tfidf_lemma_valid, tfidf_valid_char])"
   ]
  },
  {
   "cell_type": "markdown",
   "metadata": {
    "colab_type": "text",
    "id": "K94I2KPUBwtL"
   },
   "source": [
    "## 5. Final model"
   ]
  },
  {
   "cell_type": "markdown",
   "metadata": {},
   "source": [
    "We train our final logistic regression classifier on the features that combine the words and character tf-idf - representations"
   ]
  },
  {
   "cell_type": "code",
   "execution_count": 24,
   "metadata": {},
   "outputs": [
    {
     "data": {
      "text/plain": [
       "0.9318018575851392"
      ]
     },
     "execution_count": 24,
     "metadata": {},
     "output_type": "execute_result"
    }
   ],
   "source": [
    "logreg = LogisticRegression()\n",
    "\n",
    "kfold = StratifiedKFold(n_splits=10, random_state=2)\n",
    "cv = cross_val_score(logreg, train_features, y_train, cv=kfold)\n",
    "cv.mean()"
   ]
  },
  {
   "cell_type": "markdown",
   "metadata": {
    "colab_type": "text",
    "id": "LW5cycjfBwtO"
   },
   "source": [
    "We get an accuracy score of around __93.18%__ on the validation set!"
   ]
  },
  {
   "cell_type": "code",
   "execution_count": 25,
   "metadata": {},
   "outputs": [
    {
     "data": {
      "text/plain": [
       "0.9343434343434344"
      ]
     },
     "execution_count": 25,
     "metadata": {},
     "output_type": "execute_result"
    }
   ],
   "source": [
    "logreg.fit(train_features, y_train)\n",
    "logreg.score(valid_features, y_valid)"
   ]
  },
  {
   "cell_type": "markdown",
   "metadata": {},
   "source": [
    "The final testing score is 93.34% on the testing."
   ]
  },
  {
   "cell_type": "markdown",
   "metadata": {},
   "source": [
    "### 6. Conclusion\n",
    "We used a logistic regression model to classify real and fake news articles. We used a bag-of-words and a tf-idf model to represent the article's texts.\n",
    "\n",
    "This is a really simple way to classify articles, with good results. You could also use word embeddings, topic models and many more ways to represent text. \n",
    "\n",
    "Furthermore, you could also other classifier models, like Naive Bayes classifiers, Support Vector Machines and (Deep) Neural Nets. \n",
    "\n",
    "I also did not do any hyper parameter tuning to find the best model."
   ]
  }
 ],
 "metadata": {
  "colab": {
   "collapsed_sections": [],
   "name": "fake-news-classification-with-logistic-regression.ipynb",
   "provenance": []
  },
  "kernelspec": {
   "display_name": "Python 3",
   "language": "python",
   "name": "python3"
  },
  "language_info": {
   "codemirror_mode": {
    "name": "ipython",
    "version": 3
   },
   "file_extension": ".py",
   "mimetype": "text/x-python",
   "name": "python",
   "nbconvert_exporter": "python",
   "pygments_lexer": "ipython3",
   "version": "3.7.4"
  },
  "toc-autonumbering": false
 },
 "nbformat": 4,
 "nbformat_minor": 4
}
